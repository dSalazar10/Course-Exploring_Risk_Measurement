{
 "metadata": {
  "language_info": {
   "codemirror_mode": {
    "name": "ipython",
    "version": 3
   },
   "file_extension": ".py",
   "mimetype": "text/x-python",
   "name": "python",
   "nbconvert_exporter": "python",
   "pygments_lexer": "ipython3",
   "version": "3.8.5"
  },
  "orig_nbformat": 2,
  "kernelspec": {
   "name": "python38564bitdd315bc3bde74526bf0a8505a6660c1c",
   "display_name": "Python 3.8.5 64-bit",
   "language": "python"
  }
 },
 "nbformat": 4,
 "nbformat_minor": 2,
 "cells": [
  {
   "cell_type": "code",
   "execution_count": 1,
   "metadata": {},
   "outputs": [],
   "source": [
    "import pandas as pd\n",
    "import numpy as np\n",
    "from math import isnan\n",
    "from scipy.stats import lognorm"
   ]
  },
  {
   "cell_type": "code",
   "execution_count": 2,
   "metadata": {},
   "outputs": [],
   "source": [
    "def MeanOfLn(low_bnd, up_bnd):\n",
    "    \"\"\"\n",
    "    The algorithm for mean of the log normal distribution\n",
    "    * Input\n",
    "        low_bnd - The lower bounds of the distribution\n",
    "        up_bnd - The upper bounds of the distribution\n",
    "    * Output\n",
    "        Returns the log normal mean\n",
    "    \"\"\"\n",
    "    return (np.log(up_bnd) + np.log(low_bnd)) / 2\n",
    "def StdDevOfLn(low_bnd, up_bnd):\n",
    "    \"\"\"\n",
    "    The algorithm for standard deviation of the log normal distribution\n",
    "    * Input\n",
    "        low_bnd - The lower bounds of the distribution\n",
    "        up_bnd - The upper bounds of the distribution\n",
    "    * Output\n",
    "        Returns the log normal standard deviation\n",
    "    \"\"\"\n",
    "    return (np.log(up_bnd) - np.log(low_bnd)) / 3.29\n",
    "def NormInv(low_bnd, up_bnd):\n",
    "    \"\"\"\n",
    "    The algorithm to generate a log normal distribution\n",
    "    * Input\n",
    "        low_bnd - The lower bounds of the distribution\n",
    "        up_bnd - The upper bounds of the distribution\n",
    "    * Output\n",
    "        Returns the a random normalized value within the specified range\n",
    "    \"\"\"\n",
    "    p = np.random.rand()\n",
    "    mean = MeanOfLn(up_bnd, low_bnd)\n",
    "    std_dev = StdDevOfLn(up_bnd, low_bnd)\n",
    "    return lognorm.ppf(p, std_dev, loc=0, scale=np.exp(mean))\n",
    "def DidOccur(event_prob, low_bnd, up_bnd):\n",
    "    \"\"\"\n",
    "    This function simulates if an event occured\n",
    "\n",
    "    * Input\n",
    "        event_prob - The probability the event will occur\n",
    "    * Output\n",
    "        Returns the cost of impact in dollars\n",
    "    \"\"\"\n",
    "    if np.random.rand() < event_prob:\n",
    "        result = NormInv(low_bnd, up_bnd)\n",
    "        if not isnan(result):\n",
    "            return int(result)\n",
    "    return 0\n",
    "def SimulatedEvent(num_reps):\n",
    "    \"\"\"\n",
    "    This is an example of how to generate random events and impacts. The example is based on a lognormal\n",
    "    distriution rang of $0 to $5 million. The range of the events are between .1 and .01.\n",
    "    * Input\n",
    "        num_reps - The number of outcomes to simulate\n",
    "    * Output\n",
    "        Returns the total cost for all simulated outcomes\n",
    "    \"\"\"\n",
    "    low_bnd_min, low_bnd_max = 50000, 1500000\n",
    "    up_bnd_min, up_bnd_max = 500000, 5000000\n",
    "    # The probabilities\n",
    "    events = np.random.uniform(.1, 0, num_reps).round(2)\n",
    "    lower = np.random.randint(low_bnd_min, low_bnd_max, num_reps)\n",
    "    upper = np.random.randint(up_bnd_min, up_bnd_max, num_reps)\n",
    "    df = pd.DataFrame(index=range(num_reps), data={'Annual_Event_Probability': events,\n",
    "                                                    'Lower_Bound': lower,\n",
    "                                                    'Upper_Bound': upper})\n",
    "    df['Random_Result'] = df.apply(lambda x: DidOccur(x.Annual_Event_Probability, x.Lower_Bound, x.Upper_Bound), axis=1)\n",
    "    return df['Random_Result'].sum()"
   ]
  },
  {
   "cell_type": "code",
   "execution_count": 3,
   "metadata": {},
   "outputs": [],
   "source": [
    "scenarios = []\n",
    "for i in range(0,10000):\n",
    "    scenarios.append(SimulatedEvent(40))\n",
    "df = pd.DataFrame.from_dict(scenarios)"
   ]
  },
  {
   "cell_type": "code",
   "execution_count": 4,
   "metadata": {},
   "outputs": [
    {
     "output_type": "execute_result",
     "data": {
      "text/plain": [
       "0    155790.87\n",
       "dtype: float64"
      ]
     },
     "metadata": {},
     "execution_count": 4
    }
   ],
   "source": [
    "avg = (df.sum() / 10000).round(2)\n",
    "avg"
   ]
  },
  {
   "cell_type": "code",
   "execution_count": null,
   "metadata": {},
   "outputs": [],
   "source": []
  }
 ]
}